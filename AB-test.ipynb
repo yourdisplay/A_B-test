{
 "cells": [
  {
   "cell_type": "markdown",
   "metadata": {},
   "source": [
    "Данные:\n",
    "- Эксперимент проходил с 2023-01-01 по 2023-01-07 включительно. Для эксперимента были задействованы 2 и 1 группы. \n",
    "- В группе 2 был использован один из новых алгоритмов рекомендации постов, группа 1 использовалась в качестве контроля. \n",
    "- Основная гипотеза заключается в том, что новый алгоритм во 2-й группе приведет к увеличению CTR. "
   ]
  },
  {
   "cell_type": "code",
   "execution_count": 121,
   "metadata": {},
   "outputs": [],
   "source": [
    "import pandas as pd\n",
    "import pandahouse as ph\n",
    "import numpy as np\n",
    "import seaborn as sns\n",
    "import matplotlib.pyplot as plt\n",
    "from scipy import stats"
   ]
  },
  {
   "cell_type": "code",
   "execution_count": 122,
   "metadata": {},
   "outputs": [],
   "source": [
    "connection = {'host': '****',\n",
    "                      'database':'***',\n",
    "                      'user':'***', \n",
    "                      'password':'***'\n",
    "                     }"
   ]
  },
  {
   "cell_type": "code",
   "execution_count": 123,
   "metadata": {},
   "outputs": [],
   "source": [
    "query_group_2 = \"\"\"\n",
    " SELECT distinct user_id, sum(action = 'like') as likes,\n",
    "    sum(action = 'view') as views,\n",
    "    likes/views as ctr\n",
    " FROM {db}.feed_actions \n",
    " WHERE toDate(time) >= '2023-01-01' and  toDate(time) <= '2023-01-07' \n",
    "     and exp_group in (2)\n",
    " GROUP BY user_id\n",
    " \"\"\"\n",
    "\n",
    "query_group_1 = \"\"\"\n",
    " SELECT distinct user_id, sum(action = 'like') as likes,\n",
    "    sum(action = 'view') as views,\n",
    "    likes/views as ctr\n",
    " FROM {db}.feed_actions \n",
    " WHERE toDate(time) >= '2023-01-01' and  toDate(time) <= '2023-01-07' \n",
    "     and exp_group in (1)\n",
    " GROUP BY user_id\n",
    " \"\"\"\n",
    "\n",
    "\n",
    "df_group_2 = ph.read_clickhouse(query_group_2, connection=connection)\n",
    "df_group_1 = ph.read_clickhouse(query_group_1, connection=connection)"
   ]
  },
  {
   "cell_type": "code",
   "execution_count": 124,
   "metadata": {},
   "outputs": [
    {
     "data": {
      "text/plain": [
       "<matplotlib.legend.Legend at 0x7f1890f6bfd0>"
      ]
     },
     "execution_count": 124,
     "metadata": {},
     "output_type": "execute_result"
    },
    {
     "data": {
      "image/png": "[encoded data removed]",
      "text/plain": [
       "<Figure size 1080x360 with 3 Axes>"
      ]
     },
     "metadata": {
      "needs_background": "light"
     },
     "output_type": "display_data"
    }
   ],
   "source": [
    "plt.figure(figsize=(15,5))\n",
    "plt.suptitle('Гистограммы')\n",
    "\n",
    "plt.subplot(131)\n",
    "plt.ylabel('Количество')\n",
    "plt.xlabel('CTR')\n",
    "plt.title('Гистограмма значений CTR')\n",
    "plt.hist(df_group_2.ctr, bins=20,  alpha=0.65, edgecolor='black', linewidth=0.5, label='group_2(new_alg)')\n",
    "plt.hist(df_group_1.ctr, bins=20,  alpha=0.65, edgecolor='black', linewidth=0.5, label='group_1(control)')\n",
    "plt.legend(loc=\"upper right\")\n",
    "\n",
    "plt.subplot(132)\n",
    "plt.xlabel('likes')\n",
    "plt.title('Гистограмма значений likes')\n",
    "plt.hist(df_group_2.likes, bins=20,  alpha=0.65, edgecolor='black', linewidth=0.5, label='group_2(new_alg)')\n",
    "plt.hist(df_group_1.likes, bins=20,  alpha=0.65, edgecolor='black', linewidth=0.5, label='group_1(control)')\n",
    "plt.legend(loc=\"upper right\")\n",
    "\n",
    "plt.subplot(133)\n",
    "plt.xlabel('views')\n",
    "plt.title('Гистограмма значений views')\n",
    "plt.hist(df_group_2.views, bins=20,  alpha=0.65, edgecolor='black', linewidth=0.5, label='group_2(new_alg)')\n",
    "plt.hist(df_group_1.views, bins=20,  alpha=0.65, edgecolor='black', linewidth=0.5, label='group_1(control)')\n",
    "plt.legend(loc=\"upper right\")\n",
    "\n"
   ]
  },
  {
   "cell_type": "markdown",
   "metadata": {},
   "source": [
    "Вывод:\n",
    "- график распределения CTR для данных пользователей с новыми алгоритмами (group_2) двумодальный.\n",
    "- количество просмотров без лайков увеличилось (на графике CTR данных больше в окрестноси 0,1)"
   ]
  },
  {
   "cell_type": "code",
   "execution_count": 11,
   "metadata": {},
   "outputs": [
    {
     "name": "stdout",
     "output_type": "stream",
     "text": [
      "CTR для группы 1 (контрольной). Коэф. ассиметрии 1.0177755544972016, среднее 0.2156045984129629, медиана 0.203125\n",
      "CTR для группы 2 (новый алгоритм). Коэф. ассиметрии 0.8346301249835306, среднее 0.2144192734747938, медиана 0.14285714285714285\n",
      "\n",
      "Лайки для группы 1 (контрольной). Коэф. ассиметрии 1.3071710878367255, среднее 13.792142077587062, медиана 12.0\n",
      "Лайки для группы 2 (новый алгоритм). Коэф. ассиметрии 1.878906710537179, среднее 13.101386655948554, медиана 9.0\n"
     ]
    }
   ],
   "source": [
    "#Некоторые статистические параметры распределений:\n",
    "print('CTR для группы 1 (контрольной). Коэф. ассиметрии {0}, среднее {1}, медиана {2}'.format(df_group_1.ctr.skew(), df_group_1.ctr.mean(), df_group_1.ctr.median()))\n",
    "print('CTR для группы 2 (новый алгоритм). Коэф. ассиметрии {0}, среднее {1}, медиана {2}'.format(df_group_2.ctr.skew(), df_group_2.ctr.mean(), df_group_2.ctr.median()))\n",
    "\n",
    "print('\\nЛайки для группы 1 (контрольной). Коэф. ассиметрии {0}, среднее {1}, медиана {2}'.format(df_group_1.likes.skew(), df_group_1.likes.mean(), df_group_1.likes.median()))\n",
    "print('Лайки для группы 2 (новый алгоритм). Коэф. ассиметрии {0}, среднее {1}, медиана {2}'.format(df_group_2.likes.skew(), df_group_2.likes.mean(), df_group_2.likes.median()))"
   ]
  },
  {
   "cell_type": "markdown",
   "metadata": {},
   "source": [
    "#### T-тест на исходных данных"
   ]
  },
  {
   "cell_type": "code",
   "execution_count": 12,
   "metadata": {},
   "outputs": [
    {
     "data": {
      "text/plain": [
       "Ttest_indResult(statistic=-0.709439204127032, pvalue=0.47806231308750413)"
      ]
     },
     "execution_count": 12,
     "metadata": {},
     "output_type": "execute_result"
    }
   ],
   "source": [
    "stats.ttest_ind(df_group_2.ctr,\n",
    "                df_group_1.ctr,\n",
    "                equal_var=False)"
   ]
  },
  {
   "cell_type": "markdown",
   "metadata": {},
   "source": [
    "Вывод:\n",
    "- T-тест не показал значимых отличий между выборками CTR (p-value > 0.05). Действительно, среднее двух групп одинаково до 2 знака."
   ]
  },
  {
   "cell_type": "markdown",
   "metadata": {},
   "source": [
    "#### Пуассоновский бутстреп"
   ]
  },
  {
   "cell_type": "code",
   "execution_count": 13,
   "metadata": {},
   "outputs": [],
   "source": [
    "def bootstrap(likes1, views1, likes2, views2, n_bootstrap=2000):\n",
    "    poisson_bootstraps1 = stats.poisson(1).rvs(\n",
    "        (n_bootstrap, len(likes1))).astype(np.int64)\n",
    "    poisson_bootstraps2 = stats.poisson(1).rvs(\n",
    "            (n_bootstrap, len(likes2))).astype(np.int64)\n",
    "    globalCTR1 = (poisson_bootstraps1*likes1).sum(axis=1)/(poisson_bootstraps1*views1).sum(axis=1)\n",
    "    globalCTR2 = (poisson_bootstraps2*likes2).sum(axis=1)/(poisson_bootstraps2*views2).sum(axis=1)\n",
    "    return globalCTR1, globalCTR2"
   ]
  },
  {
   "cell_type": "code",
   "execution_count": 115,
   "metadata": {},
   "outputs": [
    {
     "data": {
      "text/plain": [
       "<matplotlib.legend.Legend at 0x7f1890f9e668>"
      ]
     },
     "execution_count": 115,
     "metadata": {},
     "output_type": "execute_result"
    },
    {
     "data": {
      "image/png": "[encoded data removed]",
      "text/plain": [
       "<Figure size 432x288 with 1 Axes>"
      ]
     },
     "metadata": {
      "needs_background": "light"
     },
     "output_type": "display_data"
    }
   ],
   "source": [
    "ctr1, ctr2 = bootstrap(df_group_1.likes.to_numpy(), df_group_1.views.to_numpy(), df_group_2.likes.to_numpy(), df_group_2.views.to_numpy())\n",
    "\n",
    "sns.histplot(ctr1, color='orange', label='group_1(control)')\n",
    "sns.histplot(ctr2, label='group_2(new_alg)')\n",
    "plt.legend(loc=\"best\")"
   ]
  },
  {
   "cell_type": "markdown",
   "metadata": {},
   "source": [
    "Вывод:\n",
    "- из полученных распределений видно, что глобальная CTR группы 2 меньше глобального CTR контрольной группы. \n",
    "- это может говорить о том, что при одном и том же количестве просмотров, количество лайков, в результате применения новых алгоритмов, уменьшилось."
   ]
  },
  {
   "cell_type": "code",
   "execution_count": 24,
   "metadata": {},
   "outputs": [
    {
     "data": {
      "text/plain": [
       "<matplotlib.axes._subplots.AxesSubplot at 0x7f4d2dc26358>"
      ]
     },
     "execution_count": 24,
     "metadata": {},
     "output_type": "execute_result"
    },
    {
     "data": {
      "image/png": "[encoded data removed]",
      "text/plain": [
       "<Figure size 432x288 with 1 Axes>"
      ]
     },
     "metadata": {
      "needs_background": "light"
     },
     "output_type": "display_data"
    }
   ],
   "source": [
    "#Разница между глобальными CTR\n",
    "\n",
    "sns.histplot(ctr1 - ctr2)"
   ]
  },
  {
   "cell_type": "markdown",
   "metadata": {},
   "source": [
    "Вывод:\n",
    "- разница между глобальными распределениями ненулевая. Контрольная группа имеет лучший показатель по CTR, чем группа с новыми алгоритмами."
   ]
  },
  {
   "cell_type": "markdown",
   "metadata": {},
   "source": [
    "#### Tест Манна-Уитни на исходных данных"
   ]
  },
  {
   "cell_type": "code",
   "execution_count": 15,
   "metadata": {},
   "outputs": [
    {
     "data": {
      "text/plain": [
       "MannwhitneyuResult(statistic=43704947.5, pvalue=6.0376484617779035e-56)"
      ]
     },
     "execution_count": 15,
     "metadata": {},
     "output_type": "execute_result"
    }
   ],
   "source": [
    "stats.mannwhitneyu(df_group_2.ctr, \n",
    "                   df_group_1.ctr,\n",
    "                   alternative = 'two-sided')"
   ]
  },
  {
   "cell_type": "markdown",
   "metadata": {},
   "source": [
    "Вывод:\n",
    "- Tест Манна-Уитни показал, разница между выборками CTR статистически значима (p-value < 0.05)."
   ]
  },
  {
   "cell_type": "markdown",
   "metadata": {},
   "source": [
    "#### T-тест на сглаженном ctr (α=5)"
   ]
  },
  {
   "cell_type": "code",
   "execution_count": 116,
   "metadata": {},
   "outputs": [
    {
     "data": {
      "text/plain": [
       "<matplotlib.legend.Legend at 0x7f1890f04208>"
      ]
     },
     "execution_count": 116,
     "metadata": {},
     "output_type": "execute_result"
    },
    {
     "data": {
      "image/png": "[encoded data removed]",
      "text/plain": [
       "<Figure size 1080x360 with 2 Axes>"
      ]
     },
     "metadata": {
      "needs_background": "light"
     },
     "output_type": "display_data"
    }
   ],
   "source": [
    "def get_smothed_ctr(user_likes, user_views, global_ctr, alpha):\n",
    "    smothed_ctr = (user_likes + alpha * global_ctr) / (user_views + alpha)\n",
    "    return smothed_ctr\n",
    "\n",
    "global_ctr_1 = df_group_1.likes.sum()/df_group_1.views.sum()\n",
    "global_ctr_2 = df_group_2.likes.sum()/df_group_2.views.sum()\n",
    "\n",
    "plt.figure(figsize=(15,5))\n",
    "plt.suptitle('Гистограммы CTR')\n",
    "\n",
    "plt.subplot(121)\n",
    "sns.histplot(df_group_1.ctr, color='orange', label='group_1(control)',  kde = False)\n",
    "plt.legend(loc=\"best\")\n",
    "\n",
    "plt.subplot(122)\n",
    "sns.histplot(df_group_2.ctr, kde = False, label='group_2(new_alg)')\n",
    "plt.legend(loc=\"best\")\n",
    "\n"
   ]
  },
  {
   "cell_type": "code",
   "execution_count": 45,
   "metadata": {},
   "outputs": [
    {
     "data": {
      "text/plain": [
       "Ttest_indResult(statistic=-0.709439204127032, pvalue=0.47806231308750413)"
      ]
     },
     "execution_count": 45,
     "metadata": {},
     "output_type": "execute_result"
    }
   ],
   "source": [
    "#t-test на исходных данных\n",
    "stats.ttest_ind(df_group_2.ctr,\n",
    "                df_group_1.ctr,\n",
    "                equal_var=False)"
   ]
  },
  {
   "cell_type": "code",
   "execution_count": 117,
   "metadata": {},
   "outputs": [
    {
     "data": {
      "text/plain": [
       "<matplotlib.legend.Legend at 0x7f1890d9b128>"
      ]
     },
     "execution_count": 117,
     "metadata": {},
     "output_type": "execute_result"
    },
    {
     "data": {
      "image/png": "[encoded data removed]",
      "text/plain": [
       "<Figure size 1080x360 with 2 Axes>"
      ]
     },
     "metadata": {
      "needs_background": "light"
     },
     "output_type": "display_data"
    }
   ],
   "source": [
    "df_group_1['smothed_ctr'] = df_group_1.apply(\n",
    "    lambda x: get_smothed_ctr(x['likes'], x['views'], global_ctr_1, 5), axis=1)\n",
    "df_group_2['smothed_ctr'] = df_group_2.apply(\n",
    "    lambda x: get_smothed_ctr(x['likes'], x['views'], global_ctr_2, 5), axis=1)\n",
    "\n",
    "plt.figure(figsize=(15,5))\n",
    "plt.suptitle('Гистограммы сглаженных CTR')\n",
    "\n",
    "plt.subplot(121)\n",
    "sns.histplot(df_group_1.smothed_ctr, color='orange', label='group_1(control)', kde = False)\n",
    "plt.legend(loc=\"best\")\n",
    "\n",
    "plt.subplot(122)\n",
    "sns.histplot(df_group_2.smothed_ctr, kde = False, label='group_2(new_alg)')\n",
    "plt.legend(loc=\"best\")\n"
   ]
  },
  {
   "cell_type": "markdown",
   "metadata": {},
   "source": [
    "Из полученных графиков видно, что данные \"сгладились\""
   ]
  },
  {
   "cell_type": "code",
   "execution_count": 51,
   "metadata": {},
   "outputs": [
    {
     "data": {
      "text/plain": [
       "Ttest_indResult(statistic=2.2841320431616983, pvalue=0.0223769815558559)"
      ]
     },
     "execution_count": 51,
     "metadata": {},
     "output_type": "execute_result"
    }
   ],
   "source": [
    "#t-test на сглаженных данных\n",
    "stats.ttest_ind(df_group_1.smothed_ctr,\n",
    "                df_group_2.smothed_ctr,\n",
    "                equal_var=False)"
   ]
  },
  {
   "cell_type": "code",
   "execution_count": 52,
   "metadata": {},
   "outputs": [
    {
     "name": "stdout",
     "output_type": "stream",
     "text": [
      "Среднее сглаженной CTR 1 группы: 0.21402549608884142\n",
      "Среднее сглаженной CTR 2 группы: 0.21073955503259234\n"
     ]
    }
   ],
   "source": [
    "print('Среднее сглаженной CTR 1 группы:', df_group_1.smothed_ctr.mean())\n",
    "print('Среднее сглаженной CTR 2 группы:', df_group_2.smothed_ctr.mean())"
   ]
  },
  {
   "cell_type": "markdown",
   "metadata": {},
   "source": [
    "Вывод:\n",
    "- T-тест на сглаженных данных показал \"неуверенное\" значимое отличие между выборками CTR (p-value < 0.05)"
   ]
  },
  {
   "cell_type": "markdown",
   "metadata": {},
   "source": [
    "#### T-тест поверх бакетного преобразования"
   ]
  },
  {
   "cell_type": "code",
   "execution_count": 53,
   "metadata": {},
   "outputs": [],
   "source": [
    "query_for_bucket = \"\"\"\n",
    "\n",
    "SELECT exp_group, bucket,\n",
    "    sum(likes)/sum(views) as bucket_ctr,\n",
    "    quantileExact(0.9)(ctr) as ctr9\n",
    "FROM (SELECT exp_group, \n",
    "        xxHash64(user_id)%50 as bucket,\n",
    "        user_id,\n",
    "        sum(action = 'like') as likes,\n",
    "        sum(action = 'view') as views,\n",
    "        likes/views as ctr\n",
    "    FROM {db}.feed_actions \n",
    "    WHERE toDate(time) >= '2023-01-01' and  toDate(time) <= '2023-01-07' and exp_group in (1,2)\n",
    "    GROUP BY exp_group, bucket, user_id)\n",
    "GROUP BY exp_group, bucket\n",
    "\"\"\"\n",
    "\n",
    "df_for_bucket = ph.read_clickhouse(query_for_bucket, connection=connection)"
   ]
  },
  {
   "cell_type": "code",
   "execution_count": 57,
   "metadata": {},
   "outputs": [
    {
     "data": {
      "text/plain": [
       "Ttest_indResult(statistic=5.668234732053976, pvalue=3.445595164994635e-07)"
      ]
     },
     "execution_count": 57,
     "metadata": {},
     "output_type": "execute_result"
    }
   ],
   "source": [
    "stats.ttest_ind(df_for_bucket[df_for_bucket.exp_group == 1].bucket_ctr, \n",
    "                   df_for_bucket[df_for_bucket.exp_group == 2].bucket_ctr, \n",
    "                   equal_var = False)"
   ]
  },
  {
   "cell_type": "markdown",
   "metadata": {},
   "source": [
    "Вывод:\n",
    "- T-тест на преобразованных данных показал значимое отличие между выборками CTR (p-value << 0.05)\n",
    "- Среднее CTR группы данных с новыми алгоритмами меньше CTR контрольной группы"
   ]
  },
  {
   "cell_type": "code",
   "execution_count": 118,
   "metadata": {},
   "outputs": [
    {
     "data": {
      "text/plain": [
       "<matplotlib.legend.Legend at 0x7f1890e9f550>"
      ]
     },
     "execution_count": 118,
     "metadata": {},
     "output_type": "execute_result"
    },
    {
     "data": {
      "image/png": "[encoded data removed]",
      "text/plain": [
       "<Figure size 432x288 with 1 Axes>"
      ]
     },
     "metadata": {
      "needs_background": "light"
     },
     "output_type": "display_data"
    }
   ],
   "source": [
    "plt.suptitle('Гистограммы бакетного преобразования')\n",
    "sns.histplot(df_for_bucket[df_for_bucket.exp_group == 1].bucket_ctr, color='orange', label='group_1(control)', kde = False)\n",
    "sns.histplot(df_for_bucket[df_for_bucket.exp_group == 2].bucket_ctr, kde = False, label='group_2(new_alg)')\n",
    "plt.legend(loc=\"best\")\n"
   ]
  },
  {
   "cell_type": "markdown",
   "metadata": {},
   "source": [
    "#### Тест Манна-Уитни поверх бакетного преобразования"
   ]
  },
  {
   "cell_type": "code",
   "execution_count": 67,
   "metadata": {},
   "outputs": [
    {
     "data": {
      "text/plain": [
       "MannwhitneyuResult(statistic=1995.0, pvalue=2.859963936492646e-07)"
      ]
     },
     "execution_count": 67,
     "metadata": {},
     "output_type": "execute_result"
    }
   ],
   "source": [
    "stats.mannwhitneyu(df_for_bucket[df_for_bucket.exp_group == 1].bucket_ctr, \n",
    "                   df_for_bucket[df_for_bucket.exp_group == 2].bucket_ctr, \n",
    "                   alternative = 'two-sided')"
   ]
  },
  {
   "cell_type": "markdown",
   "metadata": {},
   "source": [
    "Вывод:\n",
    "- U-тест на преобразованных данных также показал значимое отличие между выборками CTR (p-value << 0.05)"
   ]
  },
  {
   "cell_type": "markdown",
   "metadata": {},
   "source": [
    "Вывод:\n",
    "- Потенциально такая ситуация могла произойти из-за неудачного рекомендательного алгоритма. Возможно в первые дни работы алгоритма изначально рекомандуется контент в меньшей степени подходящйе пользователю. В процессе обучения модели, интересующие тематики для пользователей уточнялись и посты стали быть более привлекательными.\n",
    "- Поскольку распределение двумодальное, возможно был произведен неправильной сбор данных.\n",
    "- Основываясь на результатах, полученных с помощью Пуассоновского бутсрепа, применение новых алгоритмов может привести к уменьшению показателя CTR. Тем самым не подтверждается основная гипотеза исследования.\n",
    "- Применять указанный алгоритм не рекомендутся."
   ]
  },
  {
   "cell_type": "code",
   "execution_count": null,
   "metadata": {},
   "outputs": [],
   "source": []
  }
 ],
 "metadata": {
  "kernelspec": {
   "display_name": "Python 3",
   "language": "python",
   "name": "python3"
  },
  "language_info": {
   "codemirror_mode": {
    "name": "ipython",
    "version": 3
   },
   "file_extension": ".py",
   "mimetype": "text/x-python",
   "name": "python",
   "nbconvert_exporter": "python",
   "pygments_lexer": "ipython3",
   "version": "3.7.3"
  }
 },
 "nbformat": 4,
 "nbformat_minor": 4
}